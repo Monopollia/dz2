{
 "cells": [
  {
   "cell_type": "code",
   "execution_count": 1,
   "metadata": {},
   "outputs": [],
   "source": [
    "import pandas as pd\n",
    "import numpy as np\n",
    "import matplotlib.pyplot as plt\n",
    "import seaborn as sns\n",
    "\n",
    "from sklearn import tree\n",
    "from sklearn.tree import DecisionTreeClassifier\n",
    "\n",
    "from sklearn.model_selection import train_test_split\n",
    "from sklearn.metrics import accuracy_score\n",
    "\n",
    "\n",
    "from sklearn.ensemble import RandomForestRegressor\n",
    "\n",
    "\n",
    "from sklearn.preprocessing import MinMaxScaler\n",
    "\n",
    "%matplotlib inline\n"
   ]
  },
  {
   "cell_type": "code",
   "execution_count": 2,
   "metadata": {},
   "outputs": [],
   "source": [
    "TRAIN_DATASET_PATH  = 'train.csv'"
   ]
  },
  {
   "cell_type": "code",
   "execution_count": 3,
   "metadata": {},
   "outputs": [],
   "source": [
    "TEST_DATASET_PATH = 'test.csv'"
   ]
  },
  {
   "cell_type": "markdown",
   "metadata": {},
   "source": [
    "**Описание датасета**\n",
    "\n",
    "* **Id** - идентификационный номер квартиры\n",
    "* **DistrictId** - идентификационный номер района\n",
    "* **Rooms** - количество комнат\n",
    "* **Square** - площадь\n",
    "* **LifeSquare** - жилая площадь\n",
    "* **KitchenSquare** - площадь кухни\n",
    "* **Floor** - этаж\n",
    "* **HouseFloor** - количество этажей в доме\n",
    "* **HouseYear** - год постройки дома\n",
    "* **Ecology_1, Ecology_2, Ecology_3** - экологические показатели местности\n",
    "* **Social_1, Social_2, Social_3** - социальные показатели местности\n",
    "* **Healthcare_1, Helthcare_2** - показатели местности, связанные с охраной здоровья\n",
    "* **Shops_1, Shops_2** - показатели, связанные с наличием магазинов, торговых центров\n",
    "* **Price** - цена квартиры"
   ]
  },
  {
   "cell_type": "code",
   "execution_count": 4,
   "metadata": {},
   "outputs": [],
   "source": [
    "df_train = pd.read_csv(TRAIN_DATASET_PATH)"
   ]
  },
  {
   "cell_type": "code",
   "execution_count": 5,
   "metadata": {},
   "outputs": [],
   "source": [
    "df_train['test_data'] = 0"
   ]
  },
  {
   "cell_type": "code",
   "execution_count": 6,
   "metadata": {},
   "outputs": [
    {
     "data": {
      "text/plain": [
       "(10000, 21)"
      ]
     },
     "execution_count": 6,
     "metadata": {},
     "output_type": "execute_result"
    }
   ],
   "source": [
    "df_train.shape"
   ]
  },
  {
   "cell_type": "code",
   "execution_count": 7,
   "metadata": {},
   "outputs": [],
   "source": [
    "df_test = pd.read_csv(TEST_DATASET_PATH)"
   ]
  },
  {
   "cell_type": "code",
   "execution_count": 8,
   "metadata": {},
   "outputs": [],
   "source": [
    "df_test['Price']=0"
   ]
  },
  {
   "cell_type": "code",
   "execution_count": 9,
   "metadata": {},
   "outputs": [],
   "source": [
    "df_test['test_data'] = 1"
   ]
  },
  {
   "cell_type": "code",
   "execution_count": 10,
   "metadata": {
    "scrolled": true
   },
   "outputs": [
    {
     "data": {
      "text/plain": [
       "(5000, 21)"
      ]
     },
     "execution_count": 10,
     "metadata": {},
     "output_type": "execute_result"
    }
   ],
   "source": [
    "df_test.shape"
   ]
  },
  {
   "cell_type": "code",
   "execution_count": 11,
   "metadata": {},
   "outputs": [],
   "source": [
    "df = pd.concat([df_train, df_test], axis = 0)"
   ]
  },
  {
   "cell_type": "code",
   "execution_count": 12,
   "metadata": {
    "scrolled": true
   },
   "outputs": [
    {
     "data": {
      "text/html": [
       "<div>\n",
       "<style scoped>\n",
       "    .dataframe tbody tr th:only-of-type {\n",
       "        vertical-align: middle;\n",
       "    }\n",
       "\n",
       "    .dataframe tbody tr th {\n",
       "        vertical-align: top;\n",
       "    }\n",
       "\n",
       "    .dataframe thead th {\n",
       "        text-align: right;\n",
       "    }\n",
       "</style>\n",
       "<table border=\"1\" class=\"dataframe\">\n",
       "  <thead>\n",
       "    <tr style=\"text-align: right;\">\n",
       "      <th></th>\n",
       "      <th>Id</th>\n",
       "      <th>DistrictId</th>\n",
       "      <th>Rooms</th>\n",
       "      <th>Square</th>\n",
       "      <th>LifeSquare</th>\n",
       "      <th>KitchenSquare</th>\n",
       "      <th>Floor</th>\n",
       "      <th>HouseFloor</th>\n",
       "      <th>HouseYear</th>\n",
       "      <th>Ecology_1</th>\n",
       "      <th>Social_1</th>\n",
       "      <th>Social_2</th>\n",
       "      <th>Social_3</th>\n",
       "      <th>Healthcare_1</th>\n",
       "      <th>Helthcare_2</th>\n",
       "      <th>Shops_1</th>\n",
       "      <th>Price</th>\n",
       "      <th>test_data</th>\n",
       "    </tr>\n",
       "  </thead>\n",
       "  <tbody>\n",
       "    <tr>\n",
       "      <th>count</th>\n",
       "      <td>15000.000000</td>\n",
       "      <td>15000.000000</td>\n",
       "      <td>15000.000000</td>\n",
       "      <td>15000.000000</td>\n",
       "      <td>11846.000000</td>\n",
       "      <td>15000.000000</td>\n",
       "      <td>15000.000000</td>\n",
       "      <td>15000.000000</td>\n",
       "      <td>1.500000e+04</td>\n",
       "      <td>15000.000000</td>\n",
       "      <td>15000.000000</td>\n",
       "      <td>15000.000000</td>\n",
       "      <td>15000.000000</td>\n",
       "      <td>7825.000000</td>\n",
       "      <td>15000.000000</td>\n",
       "      <td>15000.000000</td>\n",
       "      <td>15000.000000</td>\n",
       "      <td>15000.000000</td>\n",
       "    </tr>\n",
       "    <tr>\n",
       "      <th>mean</th>\n",
       "      <td>8393.136933</td>\n",
       "      <td>50.693600</td>\n",
       "      <td>1.897000</td>\n",
       "      <td>56.360350</td>\n",
       "      <td>36.851792</td>\n",
       "      <td>6.174467</td>\n",
       "      <td>8.561800</td>\n",
       "      <td>12.606600</td>\n",
       "      <td>3.321575e+03</td>\n",
       "      <td>0.119196</td>\n",
       "      <td>24.769267</td>\n",
       "      <td>5370.404933</td>\n",
       "      <td>8.113667</td>\n",
       "      <td>1144.162428</td>\n",
       "      <td>1.319467</td>\n",
       "      <td>4.235133</td>\n",
       "      <td>142759.238266</td>\n",
       "      <td>0.333333</td>\n",
       "    </tr>\n",
       "    <tr>\n",
       "      <th>std</th>\n",
       "      <td>4850.111673</td>\n",
       "      <td>43.786257</td>\n",
       "      <td>0.839229</td>\n",
       "      <td>20.423913</td>\n",
       "      <td>71.120183</td>\n",
       "      <td>24.016979</td>\n",
       "      <td>5.323113</td>\n",
       "      <td>6.780165</td>\n",
       "      <td>1.637078e+05</td>\n",
       "      <td>0.119371</td>\n",
       "      <td>17.532278</td>\n",
       "      <td>4013.364403</td>\n",
       "      <td>23.841946</td>\n",
       "      <td>1029.296278</td>\n",
       "      <td>1.489012</td>\n",
       "      <td>4.796545</td>\n",
       "      <td>126256.734739</td>\n",
       "      <td>0.471420</td>\n",
       "    </tr>\n",
       "    <tr>\n",
       "      <th>min</th>\n",
       "      <td>0.000000</td>\n",
       "      <td>0.000000</td>\n",
       "      <td>0.000000</td>\n",
       "      <td>1.136859</td>\n",
       "      <td>0.333490</td>\n",
       "      <td>0.000000</td>\n",
       "      <td>1.000000</td>\n",
       "      <td>0.000000</td>\n",
       "      <td>1.908000e+03</td>\n",
       "      <td>0.000000</td>\n",
       "      <td>0.000000</td>\n",
       "      <td>168.000000</td>\n",
       "      <td>0.000000</td>\n",
       "      <td>0.000000</td>\n",
       "      <td>0.000000</td>\n",
       "      <td>0.000000</td>\n",
       "      <td>0.000000</td>\n",
       "      <td>0.000000</td>\n",
       "    </tr>\n",
       "    <tr>\n",
       "      <th>25%</th>\n",
       "      <td>4188.750000</td>\n",
       "      <td>20.000000</td>\n",
       "      <td>1.000000</td>\n",
       "      <td>41.814371</td>\n",
       "      <td>22.896130</td>\n",
       "      <td>1.000000</td>\n",
       "      <td>4.000000</td>\n",
       "      <td>9.000000</td>\n",
       "      <td>1.974000e+03</td>\n",
       "      <td>0.017647</td>\n",
       "      <td>6.000000</td>\n",
       "      <td>1564.000000</td>\n",
       "      <td>0.000000</td>\n",
       "      <td>350.000000</td>\n",
       "      <td>0.000000</td>\n",
       "      <td>1.000000</td>\n",
       "      <td>0.000000</td>\n",
       "      <td>0.000000</td>\n",
       "    </tr>\n",
       "    <tr>\n",
       "      <th>50%</th>\n",
       "      <td>8378.500000</td>\n",
       "      <td>37.000000</td>\n",
       "      <td>2.000000</td>\n",
       "      <td>52.645757</td>\n",
       "      <td>32.822810</td>\n",
       "      <td>6.000000</td>\n",
       "      <td>7.000000</td>\n",
       "      <td>12.000000</td>\n",
       "      <td>1.977000e+03</td>\n",
       "      <td>0.075424</td>\n",
       "      <td>25.000000</td>\n",
       "      <td>5285.000000</td>\n",
       "      <td>2.000000</td>\n",
       "      <td>900.000000</td>\n",
       "      <td>1.000000</td>\n",
       "      <td>3.000000</td>\n",
       "      <td>153860.591184</td>\n",
       "      <td>0.000000</td>\n",
       "    </tr>\n",
       "    <tr>\n",
       "      <th>75%</th>\n",
       "      <td>12594.250000</td>\n",
       "      <td>75.000000</td>\n",
       "      <td>2.000000</td>\n",
       "      <td>66.036608</td>\n",
       "      <td>45.144624</td>\n",
       "      <td>9.000000</td>\n",
       "      <td>12.000000</td>\n",
       "      <td>17.000000</td>\n",
       "      <td>2.001000e+03</td>\n",
       "      <td>0.195781</td>\n",
       "      <td>36.000000</td>\n",
       "      <td>7287.000000</td>\n",
       "      <td>5.000000</td>\n",
       "      <td>1548.000000</td>\n",
       "      <td>2.000000</td>\n",
       "      <td>6.000000</td>\n",
       "      <td>215564.596644</td>\n",
       "      <td>1.000000</td>\n",
       "    </tr>\n",
       "    <tr>\n",
       "      <th>max</th>\n",
       "      <td>16798.000000</td>\n",
       "      <td>212.000000</td>\n",
       "      <td>19.000000</td>\n",
       "      <td>641.065193</td>\n",
       "      <td>7480.592129</td>\n",
       "      <td>2014.000000</td>\n",
       "      <td>78.000000</td>\n",
       "      <td>117.000000</td>\n",
       "      <td>2.005201e+07</td>\n",
       "      <td>0.521867</td>\n",
       "      <td>74.000000</td>\n",
       "      <td>19083.000000</td>\n",
       "      <td>141.000000</td>\n",
       "      <td>4849.000000</td>\n",
       "      <td>6.000000</td>\n",
       "      <td>23.000000</td>\n",
       "      <td>633233.466570</td>\n",
       "      <td>1.000000</td>\n",
       "    </tr>\n",
       "  </tbody>\n",
       "</table>\n",
       "</div>"
      ],
      "text/plain": [
       "                 Id    DistrictId         Rooms        Square    LifeSquare  \\\n",
       "count  15000.000000  15000.000000  15000.000000  15000.000000  11846.000000   \n",
       "mean    8393.136933     50.693600      1.897000     56.360350     36.851792   \n",
       "std     4850.111673     43.786257      0.839229     20.423913     71.120183   \n",
       "min        0.000000      0.000000      0.000000      1.136859      0.333490   \n",
       "25%     4188.750000     20.000000      1.000000     41.814371     22.896130   \n",
       "50%     8378.500000     37.000000      2.000000     52.645757     32.822810   \n",
       "75%    12594.250000     75.000000      2.000000     66.036608     45.144624   \n",
       "max    16798.000000    212.000000     19.000000    641.065193   7480.592129   \n",
       "\n",
       "       KitchenSquare         Floor    HouseFloor     HouseYear     Ecology_1  \\\n",
       "count   15000.000000  15000.000000  15000.000000  1.500000e+04  15000.000000   \n",
       "mean        6.174467      8.561800     12.606600  3.321575e+03      0.119196   \n",
       "std        24.016979      5.323113      6.780165  1.637078e+05      0.119371   \n",
       "min         0.000000      1.000000      0.000000  1.908000e+03      0.000000   \n",
       "25%         1.000000      4.000000      9.000000  1.974000e+03      0.017647   \n",
       "50%         6.000000      7.000000     12.000000  1.977000e+03      0.075424   \n",
       "75%         9.000000     12.000000     17.000000  2.001000e+03      0.195781   \n",
       "max      2014.000000     78.000000    117.000000  2.005201e+07      0.521867   \n",
       "\n",
       "           Social_1      Social_2      Social_3  Healthcare_1   Helthcare_2  \\\n",
       "count  15000.000000  15000.000000  15000.000000   7825.000000  15000.000000   \n",
       "mean      24.769267   5370.404933      8.113667   1144.162428      1.319467   \n",
       "std       17.532278   4013.364403     23.841946   1029.296278      1.489012   \n",
       "min        0.000000    168.000000      0.000000      0.000000      0.000000   \n",
       "25%        6.000000   1564.000000      0.000000    350.000000      0.000000   \n",
       "50%       25.000000   5285.000000      2.000000    900.000000      1.000000   \n",
       "75%       36.000000   7287.000000      5.000000   1548.000000      2.000000   \n",
       "max       74.000000  19083.000000    141.000000   4849.000000      6.000000   \n",
       "\n",
       "            Shops_1          Price     test_data  \n",
       "count  15000.000000   15000.000000  15000.000000  \n",
       "mean       4.235133  142759.238266      0.333333  \n",
       "std        4.796545  126256.734739      0.471420  \n",
       "min        0.000000       0.000000      0.000000  \n",
       "25%        1.000000       0.000000      0.000000  \n",
       "50%        3.000000  153860.591184      0.000000  \n",
       "75%        6.000000  215564.596644      1.000000  \n",
       "max       23.000000  633233.466570      1.000000  "
      ]
     },
     "execution_count": 12,
     "metadata": {},
     "output_type": "execute_result"
    }
   ],
   "source": [
    "df.describe()"
   ]
  },
  {
   "cell_type": "code",
   "execution_count": 13,
   "metadata": {},
   "outputs": [
    {
     "name": "stdout",
     "output_type": "stream",
     "text": [
      "<class 'pandas.core.frame.DataFrame'>\n",
      "Int64Index: 15000 entries, 0 to 4999\n",
      "Data columns (total 21 columns):\n",
      "Id               15000 non-null int64\n",
      "DistrictId       15000 non-null int64\n",
      "Rooms            15000 non-null float64\n",
      "Square           15000 non-null float64\n",
      "LifeSquare       11846 non-null float64\n",
      "KitchenSquare    15000 non-null float64\n",
      "Floor            15000 non-null int64\n",
      "HouseFloor       15000 non-null float64\n",
      "HouseYear        15000 non-null int64\n",
      "Ecology_1        15000 non-null float64\n",
      "Ecology_2        15000 non-null object\n",
      "Ecology_3        15000 non-null object\n",
      "Social_1         15000 non-null int64\n",
      "Social_2         15000 non-null int64\n",
      "Social_3         15000 non-null int64\n",
      "Healthcare_1     7825 non-null float64\n",
      "Helthcare_2      15000 non-null int64\n",
      "Shops_1          15000 non-null int64\n",
      "Shops_2          15000 non-null object\n",
      "Price            15000 non-null float64\n",
      "test_data        15000 non-null int64\n",
      "dtypes: float64(8), int64(10), object(3)\n",
      "memory usage: 2.5+ MB\n"
     ]
    }
   ],
   "source": [
    "df.info()"
   ]
  },
  {
   "cell_type": "markdown",
   "metadata": {},
   "source": [
    "## Исследование данных"
   ]
  },
  {
   "cell_type": "markdown",
   "metadata": {},
   "source": [
    "### Поиск явных ошибок в данных"
   ]
  },
  {
   "cell_type": "code",
   "execution_count": 14,
   "metadata": {},
   "outputs": [
    {
     "data": {
      "text/html": [
       "<div>\n",
       "<style scoped>\n",
       "    .dataframe tbody tr th:only-of-type {\n",
       "        vertical-align: middle;\n",
       "    }\n",
       "\n",
       "    .dataframe tbody tr th {\n",
       "        vertical-align: top;\n",
       "    }\n",
       "\n",
       "    .dataframe thead th {\n",
       "        text-align: right;\n",
       "    }\n",
       "</style>\n",
       "<table border=\"1\" class=\"dataframe\">\n",
       "  <thead>\n",
       "    <tr style=\"text-align: right;\">\n",
       "      <th></th>\n",
       "      <th>Rooms</th>\n",
       "      <th>Square</th>\n",
       "      <th>LifeSquare</th>\n",
       "      <th>KitchenSquare</th>\n",
       "      <th>Price</th>\n",
       "      <th>DistrictId</th>\n",
       "      <th>HouseYear</th>\n",
       "    </tr>\n",
       "  </thead>\n",
       "  <tbody>\n",
       "    <tr>\n",
       "      <th>1397</th>\n",
       "      <td>0.0</td>\n",
       "      <td>138.427694</td>\n",
       "      <td>136.215499</td>\n",
       "      <td>0.0</td>\n",
       "      <td>268394.744389</td>\n",
       "      <td>27</td>\n",
       "      <td>2016</td>\n",
       "    </tr>\n",
       "    <tr>\n",
       "      <th>1981</th>\n",
       "      <td>0.0</td>\n",
       "      <td>212.932361</td>\n",
       "      <td>211.231125</td>\n",
       "      <td>0.0</td>\n",
       "      <td>302211.260887</td>\n",
       "      <td>27</td>\n",
       "      <td>2008</td>\n",
       "    </tr>\n",
       "    <tr>\n",
       "      <th>2269</th>\n",
       "      <td>0.0</td>\n",
       "      <td>41.790881</td>\n",
       "      <td>NaN</td>\n",
       "      <td>0.0</td>\n",
       "      <td>98129.976788</td>\n",
       "      <td>27</td>\n",
       "      <td>1977</td>\n",
       "    </tr>\n",
       "    <tr>\n",
       "      <th>3911</th>\n",
       "      <td>0.0</td>\n",
       "      <td>49.483501</td>\n",
       "      <td>NaN</td>\n",
       "      <td>0.0</td>\n",
       "      <td>217009.338463</td>\n",
       "      <td>28</td>\n",
       "      <td>2015</td>\n",
       "    </tr>\n",
       "    <tr>\n",
       "      <th>4366</th>\n",
       "      <td>0.0</td>\n",
       "      <td>81.491446</td>\n",
       "      <td>NaN</td>\n",
       "      <td>0.0</td>\n",
       "      <td>212864.799112</td>\n",
       "      <td>6</td>\n",
       "      <td>1977</td>\n",
       "    </tr>\n",
       "  </tbody>\n",
       "</table>\n",
       "</div>"
      ],
      "text/plain": [
       "      Rooms      Square  LifeSquare  KitchenSquare          Price  DistrictId  \\\n",
       "1397    0.0  138.427694  136.215499            0.0  268394.744389          27   \n",
       "1981    0.0  212.932361  211.231125            0.0  302211.260887          27   \n",
       "2269    0.0   41.790881         NaN            0.0   98129.976788          27   \n",
       "3911    0.0   49.483501         NaN            0.0  217009.338463          28   \n",
       "4366    0.0   81.491446         NaN            0.0  212864.799112           6   \n",
       "\n",
       "      HouseYear  \n",
       "1397       2016  \n",
       "1981       2008  \n",
       "2269       1977  \n",
       "3911       2015  \n",
       "4366       1977  "
      ]
     },
     "execution_count": 14,
     "metadata": {},
     "output_type": "execute_result"
    }
   ],
   "source": [
    "df.loc[(df['Rooms']==0), ['Rooms','Square', 'LifeSquare', 'KitchenSquare','Price', 'DistrictId', 'HouseYear']].head()"
   ]
  },
  {
   "cell_type": "code",
   "execution_count": 15,
   "metadata": {
    "scrolled": true
   },
   "outputs": [
    {
     "data": {
      "text/plain": [
       "(10, 21)"
      ]
     },
     "execution_count": 15,
     "metadata": {},
     "output_type": "execute_result"
    }
   ],
   "source": [
    "df.loc[(df['Rooms']==0)].shape"
   ]
  },
  {
   "cell_type": "markdown",
   "metadata": {},
   "source": [
    "##### Ошибки в признаке KitchenSquare"
   ]
  },
  {
   "cell_type": "code",
   "execution_count": 16,
   "metadata": {},
   "outputs": [
    {
     "data": {
      "text/html": [
       "<div>\n",
       "<style scoped>\n",
       "    .dataframe tbody tr th:only-of-type {\n",
       "        vertical-align: middle;\n",
       "    }\n",
       "\n",
       "    .dataframe tbody tr th {\n",
       "        vertical-align: top;\n",
       "    }\n",
       "\n",
       "    .dataframe thead th {\n",
       "        text-align: right;\n",
       "    }\n",
       "</style>\n",
       "<table border=\"1\" class=\"dataframe\">\n",
       "  <thead>\n",
       "    <tr style=\"text-align: right;\">\n",
       "      <th></th>\n",
       "      <th>Rooms</th>\n",
       "      <th>Square</th>\n",
       "      <th>LifeSquare</th>\n",
       "      <th>KitchenSquare</th>\n",
       "      <th>Price</th>\n",
       "      <th>DistrictId</th>\n",
       "      <th>HouseYear</th>\n",
       "    </tr>\n",
       "  </thead>\n",
       "  <tbody>\n",
       "    <tr>\n",
       "      <th>2</th>\n",
       "      <td>2.0</td>\n",
       "      <td>44.947953</td>\n",
       "      <td>29.197612</td>\n",
       "      <td>0.0</td>\n",
       "      <td>220925.908524</td>\n",
       "      <td>53</td>\n",
       "      <td>1968</td>\n",
       "    </tr>\n",
       "    <tr>\n",
       "      <th>7</th>\n",
       "      <td>2.0</td>\n",
       "      <td>80.312926</td>\n",
       "      <td>NaN</td>\n",
       "      <td>0.0</td>\n",
       "      <td>221244.156664</td>\n",
       "      <td>74</td>\n",
       "      <td>1977</td>\n",
       "    </tr>\n",
       "    <tr>\n",
       "      <th>23</th>\n",
       "      <td>3.0</td>\n",
       "      <td>118.907612</td>\n",
       "      <td>NaN</td>\n",
       "      <td>0.0</td>\n",
       "      <td>571069.052600</td>\n",
       "      <td>54</td>\n",
       "      <td>1977</td>\n",
       "    </tr>\n",
       "    <tr>\n",
       "      <th>26</th>\n",
       "      <td>3.0</td>\n",
       "      <td>106.958871</td>\n",
       "      <td>0.641822</td>\n",
       "      <td>0.0</td>\n",
       "      <td>337299.867936</td>\n",
       "      <td>27</td>\n",
       "      <td>2018</td>\n",
       "    </tr>\n",
       "    <tr>\n",
       "      <th>39</th>\n",
       "      <td>2.0</td>\n",
       "      <td>60.503248</td>\n",
       "      <td>NaN</td>\n",
       "      <td>0.0</td>\n",
       "      <td>229778.057902</td>\n",
       "      <td>23</td>\n",
       "      <td>1977</td>\n",
       "    </tr>\n",
       "  </tbody>\n",
       "</table>\n",
       "</div>"
      ],
      "text/plain": [
       "    Rooms      Square  LifeSquare  KitchenSquare          Price  DistrictId  \\\n",
       "2     2.0   44.947953   29.197612            0.0  220925.908524          53   \n",
       "7     2.0   80.312926         NaN            0.0  221244.156664          74   \n",
       "23    3.0  118.907612         NaN            0.0  571069.052600          54   \n",
       "26    3.0  106.958871    0.641822            0.0  337299.867936          27   \n",
       "39    2.0   60.503248         NaN            0.0  229778.057902          23   \n",
       "\n",
       "    HouseYear  \n",
       "2        1968  \n",
       "7        1977  \n",
       "23       1977  \n",
       "26       2018  \n",
       "39       1977  "
      ]
     },
     "execution_count": 16,
     "metadata": {},
     "output_type": "execute_result"
    }
   ],
   "source": [
    "df.loc[df['KitchenSquare']==0, ['Rooms','Square', 'LifeSquare', 'KitchenSquare','Price', 'DistrictId', 'HouseYear']].head()"
   ]
  },
  {
   "cell_type": "code",
   "execution_count": 17,
   "metadata": {},
   "outputs": [
    {
     "data": {
      "text/plain": [
       "(1032, 21)"
      ]
     },
     "execution_count": 17,
     "metadata": {},
     "output_type": "execute_result"
    }
   ],
   "source": [
    "df.loc[df['KitchenSquare']==0].shape"
   ]
  },
  {
   "cell_type": "code",
   "execution_count": 18,
   "metadata": {},
   "outputs": [
    {
     "data": {
      "text/html": [
       "<div>\n",
       "<style scoped>\n",
       "    .dataframe tbody tr th:only-of-type {\n",
       "        vertical-align: middle;\n",
       "    }\n",
       "\n",
       "    .dataframe tbody tr th {\n",
       "        vertical-align: top;\n",
       "    }\n",
       "\n",
       "    .dataframe thead th {\n",
       "        text-align: right;\n",
       "    }\n",
       "</style>\n",
       "<table border=\"1\" class=\"dataframe\">\n",
       "  <thead>\n",
       "    <tr style=\"text-align: right;\">\n",
       "      <th></th>\n",
       "      <th>Rooms</th>\n",
       "      <th>Square</th>\n",
       "      <th>LifeSquare</th>\n",
       "      <th>KitchenSquare</th>\n",
       "      <th>Price</th>\n",
       "      <th>DistrictId</th>\n",
       "      <th>HouseYear</th>\n",
       "    </tr>\n",
       "  </thead>\n",
       "  <tbody>\n",
       "    <tr>\n",
       "      <th>227</th>\n",
       "      <td>3.0</td>\n",
       "      <td>79.722243</td>\n",
       "      <td>44.731219</td>\n",
       "      <td>72.0</td>\n",
       "      <td>370148.625285</td>\n",
       "      <td>2</td>\n",
       "      <td>1987</td>\n",
       "    </tr>\n",
       "    <tr>\n",
       "      <th>551</th>\n",
       "      <td>1.0</td>\n",
       "      <td>48.128114</td>\n",
       "      <td>45.023531</td>\n",
       "      <td>48.0</td>\n",
       "      <td>146950.912410</td>\n",
       "      <td>6</td>\n",
       "      <td>2013</td>\n",
       "    </tr>\n",
       "    <tr>\n",
       "      <th>1064</th>\n",
       "      <td>1.0</td>\n",
       "      <td>47.100719</td>\n",
       "      <td>46.447960</td>\n",
       "      <td>2014.0</td>\n",
       "      <td>108337.484207</td>\n",
       "      <td>62</td>\n",
       "      <td>2014</td>\n",
       "    </tr>\n",
       "    <tr>\n",
       "      <th>1369</th>\n",
       "      <td>2.0</td>\n",
       "      <td>68.841073</td>\n",
       "      <td>64.234956</td>\n",
       "      <td>66.0</td>\n",
       "      <td>189244.249909</td>\n",
       "      <td>27</td>\n",
       "      <td>2014</td>\n",
       "    </tr>\n",
       "    <tr>\n",
       "      <th>1800</th>\n",
       "      <td>1.0</td>\n",
       "      <td>37.805231</td>\n",
       "      <td>2.228592</td>\n",
       "      <td>11.0</td>\n",
       "      <td>137402.092529</td>\n",
       "      <td>27</td>\n",
       "      <td>2015</td>\n",
       "    </tr>\n",
       "  </tbody>\n",
       "</table>\n",
       "</div>"
      ],
      "text/plain": [
       "      Rooms     Square  LifeSquare  KitchenSquare          Price  DistrictId  \\\n",
       "227     3.0  79.722243   44.731219           72.0  370148.625285           2   \n",
       "551     1.0  48.128114   45.023531           48.0  146950.912410           6   \n",
       "1064    1.0  47.100719   46.447960         2014.0  108337.484207          62   \n",
       "1369    2.0  68.841073   64.234956           66.0  189244.249909          27   \n",
       "1800    1.0  37.805231    2.228592           11.0  137402.092529          27   \n",
       "\n",
       "      HouseYear  \n",
       "227        1987  \n",
       "551        2013  \n",
       "1064       2014  \n",
       "1369       2014  \n",
       "1800       2015  "
      ]
     },
     "execution_count": 18,
     "metadata": {},
     "output_type": "execute_result"
    }
   ],
   "source": [
    "df.loc[df['KitchenSquare']>df['LifeSquare'],['Rooms','Square', 'LifeSquare', 'KitchenSquare','Price', 'DistrictId', 'HouseYear']].head()"
   ]
  },
  {
   "cell_type": "code",
   "execution_count": 19,
   "metadata": {},
   "outputs": [
    {
     "data": {
      "text/plain": [
       "(31, 21)"
      ]
     },
     "execution_count": 19,
     "metadata": {},
     "output_type": "execute_result"
    }
   ],
   "source": [
    "df.loc[df['KitchenSquare']>df['LifeSquare']].shape"
   ]
  },
  {
   "cell_type": "markdown",
   "metadata": {},
   "source": [
    "##### Ошибки в признаке LifeSquare"
   ]
  },
  {
   "cell_type": "code",
   "execution_count": 20,
   "metadata": {},
   "outputs": [
    {
     "data": {
      "text/plain": [
       "(0, 21)"
      ]
     },
     "execution_count": 20,
     "metadata": {},
     "output_type": "execute_result"
    }
   ],
   "source": [
    "df.loc[df['LifeSquare']==0].shape"
   ]
  },
  {
   "cell_type": "code",
   "execution_count": 21,
   "metadata": {},
   "outputs": [
    {
     "data": {
      "text/html": [
       "<div>\n",
       "<style scoped>\n",
       "    .dataframe tbody tr th:only-of-type {\n",
       "        vertical-align: middle;\n",
       "    }\n",
       "\n",
       "    .dataframe tbody tr th {\n",
       "        vertical-align: top;\n",
       "    }\n",
       "\n",
       "    .dataframe thead th {\n",
       "        text-align: right;\n",
       "    }\n",
       "</style>\n",
       "<table border=\"1\" class=\"dataframe\">\n",
       "  <thead>\n",
       "    <tr style=\"text-align: right;\">\n",
       "      <th></th>\n",
       "      <th>Rooms</th>\n",
       "      <th>Square</th>\n",
       "      <th>LifeSquare</th>\n",
       "      <th>KitchenSquare</th>\n",
       "      <th>Price</th>\n",
       "      <th>DistrictId</th>\n",
       "      <th>HouseYear</th>\n",
       "    </tr>\n",
       "  </thead>\n",
       "  <tbody>\n",
       "    <tr>\n",
       "      <th>28</th>\n",
       "      <td>1.0</td>\n",
       "      <td>42.530043</td>\n",
       "      <td>43.967759</td>\n",
       "      <td>1.0</td>\n",
       "      <td>95338.198549</td>\n",
       "      <td>23</td>\n",
       "      <td>2014</td>\n",
       "    </tr>\n",
       "    <tr>\n",
       "      <th>44</th>\n",
       "      <td>3.0</td>\n",
       "      <td>104.211396</td>\n",
       "      <td>106.340403</td>\n",
       "      <td>0.0</td>\n",
       "      <td>435462.048070</td>\n",
       "      <td>38</td>\n",
       "      <td>2017</td>\n",
       "    </tr>\n",
       "    <tr>\n",
       "      <th>52</th>\n",
       "      <td>2.0</td>\n",
       "      <td>61.400054</td>\n",
       "      <td>65.224603</td>\n",
       "      <td>0.0</td>\n",
       "      <td>199215.452229</td>\n",
       "      <td>1</td>\n",
       "      <td>2016</td>\n",
       "    </tr>\n",
       "    <tr>\n",
       "      <th>123</th>\n",
       "      <td>3.0</td>\n",
       "      <td>85.952306</td>\n",
       "      <td>89.803753</td>\n",
       "      <td>1.0</td>\n",
       "      <td>309688.592681</td>\n",
       "      <td>25</td>\n",
       "      <td>2017</td>\n",
       "    </tr>\n",
       "    <tr>\n",
       "      <th>153</th>\n",
       "      <td>1.0</td>\n",
       "      <td>51.831473</td>\n",
       "      <td>53.491301</td>\n",
       "      <td>1.0</td>\n",
       "      <td>131797.472284</td>\n",
       "      <td>62</td>\n",
       "      <td>2015</td>\n",
       "    </tr>\n",
       "  </tbody>\n",
       "</table>\n",
       "</div>"
      ],
      "text/plain": [
       "     Rooms      Square  LifeSquare  KitchenSquare          Price  DistrictId  \\\n",
       "28     1.0   42.530043   43.967759            1.0   95338.198549          23   \n",
       "44     3.0  104.211396  106.340403            0.0  435462.048070          38   \n",
       "52     2.0   61.400054   65.224603            0.0  199215.452229           1   \n",
       "123    3.0   85.952306   89.803753            1.0  309688.592681          25   \n",
       "153    1.0   51.831473   53.491301            1.0  131797.472284          62   \n",
       "\n",
       "     HouseYear  \n",
       "28        2014  \n",
       "44        2017  \n",
       "52        2016  \n",
       "123       2017  \n",
       "153       2015  "
      ]
     },
     "execution_count": 21,
     "metadata": {},
     "output_type": "execute_result"
    }
   ],
   "source": [
    "df.loc[df['LifeSquare']>df['Square'], ['Rooms','Square', 'LifeSquare', 'KitchenSquare','Price', 'DistrictId', 'HouseYear']].head()"
   ]
  },
  {
   "cell_type": "code",
   "execution_count": 22,
   "metadata": {},
   "outputs": [
    {
     "data": {
      "text/plain": [
       "(723, 21)"
      ]
     },
     "execution_count": 22,
     "metadata": {},
     "output_type": "execute_result"
    }
   ],
   "source": [
    "df.loc[df['LifeSquare']>df['Square']].shape"
   ]
  },
  {
   "cell_type": "markdown",
   "metadata": {},
   "source": [
    "##### Ошибки в признаке Square"
   ]
  },
  {
   "cell_type": "code",
   "execution_count": 23,
   "metadata": {},
   "outputs": [
    {
     "data": {
      "text/html": [
       "<div>\n",
       "<style scoped>\n",
       "    .dataframe tbody tr th:only-of-type {\n",
       "        vertical-align: middle;\n",
       "    }\n",
       "\n",
       "    .dataframe tbody tr th {\n",
       "        vertical-align: top;\n",
       "    }\n",
       "\n",
       "    .dataframe thead th {\n",
       "        text-align: right;\n",
       "    }\n",
       "</style>\n",
       "<table border=\"1\" class=\"dataframe\">\n",
       "  <thead>\n",
       "    <tr style=\"text-align: right;\">\n",
       "      <th></th>\n",
       "      <th>Rooms</th>\n",
       "      <th>Square</th>\n",
       "      <th>LifeSquare</th>\n",
       "      <th>KitchenSquare</th>\n",
       "      <th>Price</th>\n",
       "      <th>DistrictId</th>\n",
       "      <th>HouseYear</th>\n",
       "    </tr>\n",
       "  </thead>\n",
       "  <tbody>\n",
       "    <tr>\n",
       "      <th>212</th>\n",
       "      <td>2.0</td>\n",
       "      <td>5.497061</td>\n",
       "      <td>67.628717</td>\n",
       "      <td>1.0</td>\n",
       "      <td>412511.088764</td>\n",
       "      <td>88</td>\n",
       "      <td>1977</td>\n",
       "    </tr>\n",
       "    <tr>\n",
       "      <th>1316</th>\n",
       "      <td>1.0</td>\n",
       "      <td>4.633498</td>\n",
       "      <td>1.969969</td>\n",
       "      <td>1.0</td>\n",
       "      <td>107604.269441</td>\n",
       "      <td>27</td>\n",
       "      <td>1977</td>\n",
       "    </tr>\n",
       "    <tr>\n",
       "      <th>1608</th>\n",
       "      <td>1.0</td>\n",
       "      <td>2.596351</td>\n",
       "      <td>4.604943</td>\n",
       "      <td>1.0</td>\n",
       "      <td>137597.601458</td>\n",
       "      <td>6</td>\n",
       "      <td>2014</td>\n",
       "    </tr>\n",
       "    <tr>\n",
       "      <th>3280</th>\n",
       "      <td>1.0</td>\n",
       "      <td>4.380726</td>\n",
       "      <td>40.805837</td>\n",
       "      <td>1.0</td>\n",
       "      <td>97560.720383</td>\n",
       "      <td>27</td>\n",
       "      <td>2013</td>\n",
       "    </tr>\n",
       "    <tr>\n",
       "      <th>3413</th>\n",
       "      <td>1.0</td>\n",
       "      <td>5.129222</td>\n",
       "      <td>5.549458</td>\n",
       "      <td>1.0</td>\n",
       "      <td>369472.403061</td>\n",
       "      <td>5</td>\n",
       "      <td>1977</td>\n",
       "    </tr>\n",
       "  </tbody>\n",
       "</table>\n",
       "</div>"
      ],
      "text/plain": [
       "      Rooms    Square  LifeSquare  KitchenSquare          Price  DistrictId  \\\n",
       "212     2.0  5.497061   67.628717            1.0  412511.088764          88   \n",
       "1316    1.0  4.633498    1.969969            1.0  107604.269441          27   \n",
       "1608    1.0  2.596351    4.604943            1.0  137597.601458           6   \n",
       "3280    1.0  4.380726   40.805837            1.0   97560.720383          27   \n",
       "3413    1.0  5.129222    5.549458            1.0  369472.403061           5   \n",
       "\n",
       "      HouseYear  \n",
       "212        1977  \n",
       "1316       1977  \n",
       "1608       2014  \n",
       "3280       2013  \n",
       "3413       1977  "
      ]
     },
     "execution_count": 23,
     "metadata": {},
     "output_type": "execute_result"
    }
   ],
   "source": [
    "df.loc[df['Square']<10, ['Rooms','Square', 'LifeSquare', 'KitchenSquare','Price', 'DistrictId', 'HouseYear']].head()"
   ]
  },
  {
   "cell_type": "code",
   "execution_count": 24,
   "metadata": {},
   "outputs": [
    {
     "data": {
      "text/plain": [
       "(20, 21)"
      ]
     },
     "execution_count": 24,
     "metadata": {},
     "output_type": "execute_result"
    }
   ],
   "source": [
    "df.loc[df['Square']<10].shape"
   ]
  },
  {
   "cell_type": "markdown",
   "metadata": {},
   "source": [
    "##### Ошибки в признаке Floor"
   ]
  },
  {
   "cell_type": "code",
   "execution_count": 25,
   "metadata": {},
   "outputs": [
    {
     "data": {
      "text/html": [
       "<div>\n",
       "<style scoped>\n",
       "    .dataframe tbody tr th:only-of-type {\n",
       "        vertical-align: middle;\n",
       "    }\n",
       "\n",
       "    .dataframe tbody tr th {\n",
       "        vertical-align: top;\n",
       "    }\n",
       "\n",
       "    .dataframe thead th {\n",
       "        text-align: right;\n",
       "    }\n",
       "</style>\n",
       "<table border=\"1\" class=\"dataframe\">\n",
       "  <thead>\n",
       "    <tr style=\"text-align: right;\">\n",
       "      <th></th>\n",
       "      <th>Rooms</th>\n",
       "      <th>Square</th>\n",
       "      <th>LifeSquare</th>\n",
       "      <th>KitchenSquare</th>\n",
       "      <th>Price</th>\n",
       "      <th>DistrictId</th>\n",
       "      <th>HouseYear</th>\n",
       "    </tr>\n",
       "  </thead>\n",
       "  <tbody>\n",
       "    <tr>\n",
       "      <th>7</th>\n",
       "      <td>2.0</td>\n",
       "      <td>80.312926</td>\n",
       "      <td>NaN</td>\n",
       "      <td>0.0</td>\n",
       "      <td>221244.156664</td>\n",
       "      <td>74</td>\n",
       "      <td>1977</td>\n",
       "    </tr>\n",
       "    <tr>\n",
       "      <th>14</th>\n",
       "      <td>1.0</td>\n",
       "      <td>53.769097</td>\n",
       "      <td>52.408027</td>\n",
       "      <td>1.0</td>\n",
       "      <td>140647.565937</td>\n",
       "      <td>27</td>\n",
       "      <td>1977</td>\n",
       "    </tr>\n",
       "    <tr>\n",
       "      <th>16</th>\n",
       "      <td>2.0</td>\n",
       "      <td>49.360648</td>\n",
       "      <td>31.993964</td>\n",
       "      <td>5.0</td>\n",
       "      <td>117000.381287</td>\n",
       "      <td>27</td>\n",
       "      <td>1983</td>\n",
       "    </tr>\n",
       "    <tr>\n",
       "      <th>21</th>\n",
       "      <td>2.0</td>\n",
       "      <td>64.711835</td>\n",
       "      <td>NaN</td>\n",
       "      <td>1.0</td>\n",
       "      <td>127200.026511</td>\n",
       "      <td>27</td>\n",
       "      <td>1977</td>\n",
       "    </tr>\n",
       "    <tr>\n",
       "      <th>23</th>\n",
       "      <td>3.0</td>\n",
       "      <td>118.907612</td>\n",
       "      <td>NaN</td>\n",
       "      <td>0.0</td>\n",
       "      <td>571069.052600</td>\n",
       "      <td>54</td>\n",
       "      <td>1977</td>\n",
       "    </tr>\n",
       "  </tbody>\n",
       "</table>\n",
       "</div>"
      ],
      "text/plain": [
       "    Rooms      Square  LifeSquare  KitchenSquare          Price  DistrictId  \\\n",
       "7     2.0   80.312926         NaN            0.0  221244.156664          74   \n",
       "14    1.0   53.769097   52.408027            1.0  140647.565937          27   \n",
       "16    2.0   49.360648   31.993964            5.0  117000.381287          27   \n",
       "21    2.0   64.711835         NaN            1.0  127200.026511          27   \n",
       "23    3.0  118.907612         NaN            0.0  571069.052600          54   \n",
       "\n",
       "    HouseYear  \n",
       "7        1977  \n",
       "14       1977  \n",
       "16       1983  \n",
       "21       1977  \n",
       "23       1977  "
      ]
     },
     "execution_count": 25,
     "metadata": {},
     "output_type": "execute_result"
    }
   ],
   "source": [
    "df.loc[df['Floor'] > df['HouseFloor'],['Rooms','Square', 'LifeSquare', 'KitchenSquare','Price', 'DistrictId', 'HouseYear'] ].head()"
   ]
  },
  {
   "cell_type": "code",
   "execution_count": 26,
   "metadata": {},
   "outputs": [
    {
     "data": {
      "text/plain": [
       "(2709, 21)"
      ]
     },
     "execution_count": 26,
     "metadata": {},
     "output_type": "execute_result"
    }
   ],
   "source": [
    "df.loc[df['Floor'] > df['HouseFloor']].shape"
   ]
  },
  {
   "cell_type": "markdown",
   "metadata": {},
   "source": [
    "### Поиск зависимостей"
   ]
  },
  {
   "cell_type": "markdown",
   "metadata": {},
   "source": [
    "##### Площадь и жилая площадь от количества  комнат"
   ]
  },
  {
   "cell_type": "markdown",
   "metadata": {},
   "source": [
    "###### Зависимость жилой площади от числа комнат"
   ]
  },
  {
   "cell_type": "code",
   "execution_count": 27,
   "metadata": {},
   "outputs": [
    {
     "data": {
      "text/plain": [
       "<matplotlib.axes._subplots.AxesSubplot at 0x210349e6ba8>"
      ]
     },
     "execution_count": 27,
     "metadata": {},
     "output_type": "execute_result"
    },
    {
     "data": {
      "image/png": "[encoded data removed]",
      "text/plain": [
       "<Figure size 432x288 with 1 Axes>"
      ]
     },
     "metadata": {
      "needs_background": "light"
     },
     "output_type": "display_data"
    }
   ],
   "source": [
    "df.loc[(df['LifeSquare']<150)&(df['Rooms']==0), 'LifeSquare'].plot.hist(bins = 100, color = 'blue', density = True)\n",
    "df.loc[(df['LifeSquare']<150)&(df['Rooms']==1), 'LifeSquare'].plot.hist(bins = 100, color = 'red', density = True)\n",
    "df.loc[(df['LifeSquare']<150)&(df['Rooms']==2), 'LifeSquare'].plot.hist(bins = 100, color = 'yellow', density = True)\n",
    "df.loc[(df['LifeSquare']<150)&(df['Rooms']==3), 'LifeSquare'].plot.hist(bins = 100, color = 'green', density = True)\n",
    "df.loc[(df['LifeSquare']<150)&(df['Rooms']==4), 'LifeSquare'].plot.hist(bins = 100, color = 'grey', density = True)\n",
    "df.loc[(df['LifeSquare']<150)&(df['Rooms']==5), 'LifeSquare'].plot.hist(bins = 100, color = 'pink', density = True)"
   ]
  },
  {
   "cell_type": "markdown",
   "metadata": {},
   "source": [
    "###### Зависимость жилой площади от числа комнат"
   ]
  },
  {
   "cell_type": "code",
   "execution_count": 28,
   "metadata": {},
   "outputs": [
    {
     "data": {
      "text/plain": [
       "<matplotlib.axes._subplots.AxesSubplot at 0x21035081fd0>"
      ]
     },
     "execution_count": 28,
     "metadata": {},
     "output_type": "execute_result"
    },
    {
     "data": {
      "image/png": "[encoded data removed]",
      "text/plain": [
       "<Figure size 432x288 with 1 Axes>"
      ]
     },
     "metadata": {
      "needs_background": "light"
     },
     "output_type": "display_data"
    }
   ],
   "source": [
    "df.loc[(df['Square']<150)&(df['Rooms']==0), 'Square'].plot.hist(bins = 100, color = 'blue', density = True)\n",
    "df.loc[(df['Square']<150)&(df['Rooms']==1), 'Square'].plot.hist(bins = 100, color = 'red', density = True)\n",
    "df.loc[(df['Square']<150)&(df['Rooms']==2), 'Square'].plot.hist(bins = 100, color = 'yellow', density = True)\n",
    "df.loc[(df['Square']<150)&(df['Rooms']==3), 'Square'].plot.hist(bins = 100, color = 'green', density = True)\n",
    "df.loc[(df['Square']<150)&(df['Rooms']==4), 'Square'].plot.hist(bins = 100, color = 'grey', density = True)\n",
    "df.loc[(df['Square']<150)&(df['Rooms']==5), 'Square'].plot.hist(bins = 100, color = 'pink', density = True)"
   ]
  },
  {
   "cell_type": "markdown",
   "metadata": {},
   "source": [
    "### Функции корректировки данных"
   ]
  },
  {
   "cell_type": "markdown",
   "metadata": {},
   "source": [
    "#### Функции корректировки ошибочных наблюдений"
   ]
  },
  {
   "cell_type": "code",
   "execution_count": 29,
   "metadata": {},
   "outputs": [],
   "source": [
    "#Корректировка количества комнат\n",
    "def rooms_correction(df):\n",
    "    df.loc[df['Rooms'] == 0, 'Rooms'] = 1\n",
    "    return(df)"
   ]
  },
  {
   "cell_type": "markdown",
   "metadata": {},
   "source": [
    "##### Функции корректировки нулевых площадей"
   ]
  },
  {
   "cell_type": "code",
   "execution_count": 30,
   "metadata": {},
   "outputs": [],
   "source": [
    "#Замена KitchenSquare = 0 на медианы по комнатам\n",
    "def Kitchen_Median(df):\n",
    "    for i in df['Rooms'].unique():\n",
    "        df.loc[(df['KitchenSquare']==0)&(df['Rooms']==i) , 'KitchenSquare'] = df.loc[(df['Rooms']==i) , 'KitchenSquare'].median()\n",
    "    return(df)"
   ]
  },
  {
   "cell_type": "code",
   "execution_count": 31,
   "metadata": {},
   "outputs": [],
   "source": [
    "#Замена LifeSquare < 7 \n",
    "#Замена: lifeSquare = (Square - Kitchen) * медиана соотношения (Square/LifeSquare)\n",
    "def LifeSquare_diff(df):\n",
    "    df['tmp'] = df['LifeSquare'] / (df['Square'] - df['KitchenSquare'])\n",
    "    for i in df['Rooms'].unique():\n",
    "        df.loc[(df['Rooms']==i)&(df['LifeSquare'] <= 7), 'LifeSquare'] = df.loc[df['Rooms']==i, 'tmp'].median() * (df.loc[(df['Rooms']==i)&(df['LifeSquare']<=7), 'Square'] - df.loc[(df['Rooms']==i)&(df['LifeSquare']<=7), 'KitchenSquare'])\n",
    "    df.drop(columns = ['tmp'], inplace = True)    \n",
    "    return(df)"
   ]
  },
  {
   "cell_type": "code",
   "execution_count": 32,
   "metadata": {},
   "outputs": [],
   "source": [
    "#Замена Square < 10 на медианнные значения по количеству комнат\n",
    "def Square_Median(df):\n",
    "    for i in df['Rooms'].unique():\n",
    "        df.loc[(df['Square']<=10)&(df['Rooms']==i), 'Square'] = df.loc[(df['Rooms']), 'Square'].median()\n",
    "        df.loc[(df['Square']>642)&(df['Rooms']==i), 'Square'] = df.loc[(df['Rooms']), 'Square'].median()\n",
    "    return(df)"
   ]
  },
  {
   "cell_type": "markdown",
   "metadata": {},
   "source": [
    "##### Функции \"поменять местами\""
   ]
  },
  {
   "cell_type": "code",
   "execution_count": 33,
   "metadata": {},
   "outputs": [],
   "source": [
    "#Поменять местами площадь кухни и жилую площадь\n",
    "def kitchen_life_swap(df):\n",
    "    df.loc[df['KitchenSquare']>df['LifeSquare'], ['KitchenSquare', 'LifeSquare']] = df.loc[df['KitchenSquare']>df['LifeSquare'], [ 'LifeSquare','KitchenSquare']].values\n",
    "    return(df)"
   ]
  },
  {
   "cell_type": "code",
   "execution_count": 34,
   "metadata": {},
   "outputs": [],
   "source": [
    "#Поменять местами общую площадь и жилую площадь\n",
    "def lifesq_sq_swap(df):\n",
    "    df.loc[df['LifeSquare']>df['Square'], ['Square', 'LifeSquare']] = df.loc[df['LifeSquare']>df['Square'], ['LifeSquare','Square']].values   \n",
    "    return(df)"
   ]
  },
  {
   "cell_type": "code",
   "execution_count": 35,
   "metadata": {},
   "outputs": [],
   "source": [
    "#Поменть местами этаж и этажность дома если этаж>этажность\n",
    "def floor_swap(df):\n",
    "\n",
    "    df.loc[df['Floor'] >  df['HouseFloor'], ['Floor','HouseFloor']] = df.loc[df['Floor'] >  df['HouseFloor'], ['HouseFloor','Floor']].values \n",
    "    return(df)"
   ]
  },
  {
   "cell_type": "markdown",
   "metadata": {},
   "source": [
    "#### Функция генерации бинарных признаков"
   ]
  },
  {
   "cell_type": "code",
   "execution_count": 36,
   "metadata": {},
   "outputs": [],
   "source": [
    "#one hot encoding и удаление исходных признаков\n",
    "def generate_dummies(df, col_list):\n",
    "    df = pd.concat([df, pd.get_dummies(df[col_list], drop_first = True)], axis = 1).drop(col_list, axis = 1)  \n",
    "    return(df)"
   ]
  },
  {
   "cell_type": "markdown",
   "metadata": {},
   "source": [
    "#### Функции заполнения пропущенных значений"
   ]
  },
  {
   "cell_type": "markdown",
   "metadata": {},
   "source": [
    "##### Функция заполнения пропущенных значений Healthcare_1"
   ]
  },
  {
   "cell_type": "code",
   "execution_count": 37,
   "metadata": {},
   "outputs": [],
   "source": [
    "# Дерево решений предсказывает Healthcare_1 по заданному набору признаков \n",
    "\n",
    "def fillna_tree(df, col_list, feature_name, rs):\n",
    "    clf = DecisionTreeClassifier(random_state = rs)\n",
    "    full_list = col_list[:]\n",
    "    full_list.append(feature_name)\n",
    "    \n",
    "    df2 = df[full_list].dropna()\n",
    "    X = df2[col_list]\n",
    "    y = df2[feature_name]\n",
    "    clf.fit(X,y)\n",
    "    \n",
    "    score = accuracy_score(clf.predict(X), y)\n",
    "    \n",
    "    y_new = pd.Series(clf.predict(df[col_list]))\n",
    "    df = pd.concat([df.reset_index(drop = True), y_new.reset_index(drop=True)], axis = 1)    \n",
    "    df['Healthcare_1'].fillna(df[0], inplace=True)\n",
    "    df.drop([0], axis = 1, inplace=True)\n",
    "    return({'df':df, 'score':score})\n"
   ]
  },
  {
   "cell_type": "markdown",
   "metadata": {},
   "source": [
    "##### Функция заполнения пропущенных данных LifeSquare"
   ]
  },
  {
   "cell_type": "code",
   "execution_count": 38,
   "metadata": {},
   "outputs": [],
   "source": [
    "def fillna_LS_diff(df):\n",
    "    df['tmp'] = df['LifeSquare'] / (df['Square'] - df['KitchenSquare'])\n",
    "    for i in df['Rooms'].unique():\n",
    "        df.loc[(df['Rooms']==i)&(df['LifeSquare'].isna()), 'LifeSquare'] = df.loc[df['Rooms']==i, 'tmp'].median() * (df.loc[(df['Rooms']==i)&(df['LifeSquare'].isna()), 'Square'] - df.loc[(df['Rooms']==i)&(df['LifeSquare'].isna()), 'KitchenSquare'])\n",
    "    df.drop(columns = ['tmp'], inplace = True)    \n",
    "    return(df)"
   ]
  },
  {
   "cell_type": "markdown",
   "metadata": {},
   "source": [
    "### Обработка данных"
   ]
  },
  {
   "cell_type": "code",
   "execution_count": 39,
   "metadata": {},
   "outputs": [],
   "source": [
    "df = pd.concat([df_train, df_test], axis = 0)"
   ]
  },
  {
   "cell_type": "code",
   "execution_count": 40,
   "metadata": {},
   "outputs": [],
   "source": [
    "df2 = df[:]"
   ]
  },
  {
   "cell_type": "markdown",
   "metadata": {},
   "source": [
    "#### Корректировка ошибочных данных"
   ]
  },
  {
   "cell_type": "code",
   "execution_count": 41,
   "metadata": {},
   "outputs": [],
   "source": [
    "df2 = rooms_correction(df2)"
   ]
  },
  {
   "cell_type": "code",
   "execution_count": 42,
   "metadata": {},
   "outputs": [],
   "source": [
    "df2 = kitchen_life_swap(df2)"
   ]
  },
  {
   "cell_type": "code",
   "execution_count": 43,
   "metadata": {},
   "outputs": [],
   "source": [
    "df2 = lifesq_sq_swap(df2)"
   ]
  },
  {
   "cell_type": "code",
   "execution_count": 44,
   "metadata": {},
   "outputs": [],
   "source": [
    "df2 = Square_Median(df2)"
   ]
  },
  {
   "cell_type": "code",
   "execution_count": 45,
   "metadata": {},
   "outputs": [],
   "source": [
    "df2 = LifeSquare_diff(df2)"
   ]
  },
  {
   "cell_type": "code",
   "execution_count": 46,
   "metadata": {},
   "outputs": [],
   "source": [
    "df2 = floor_swap(df2)"
   ]
  },
  {
   "cell_type": "markdown",
   "metadata": {},
   "source": [
    "#### Добавление категориальных переменных"
   ]
  },
  {
   "cell_type": "code",
   "execution_count": 47,
   "metadata": {},
   "outputs": [],
   "source": [
    "col_list = ['Ecology_2', 'Ecology_3', 'Shops_2']"
   ]
  },
  {
   "cell_type": "code",
   "execution_count": 48,
   "metadata": {
    "scrolled": true
   },
   "outputs": [],
   "source": [
    "df2 = generate_dummies(df2, col_list)"
   ]
  },
  {
   "cell_type": "code",
   "execution_count": 49,
   "metadata": {},
   "outputs": [],
   "source": [
    "#one hot encoding rooms\n",
    "df2['Room1'] = 0\n",
    "df2['Room2'] = 0\n",
    "df2['Room3'] = 0\n",
    "df2['Room4'] = 0\n",
    "#df2['Room>4'] = 0\n",
    "\n",
    "df2.loc[df['Rooms'] == 1,'Room1'] = 1\n",
    "df2.loc[df['Rooms'] == 2,'Room2'] = 1\n",
    "df2.loc[df['Rooms'] == 3,'Room3'] = 1\n",
    "df2.loc[df['Rooms'] == 4,'Room4'] = 1\n",
    "#df2.loc[df['Rooms'] > 4,'Room>4'] = 1\n",
    "\n",
    "#df2.drop(columns = ['Rooms'], inplace = True)"
   ]
  },
  {
   "cell_type": "code",
   "execution_count": 50,
   "metadata": {},
   "outputs": [],
   "source": [
    "#one hot encoding 1й этаж\n",
    "df2['first_floor']=0\n",
    "df2.loc[df2['Floor']==1, 'first_floor']=1"
   ]
  },
  {
   "cell_type": "markdown",
   "metadata": {},
   "source": [
    "#### Замена пропущенных значений"
   ]
  },
  {
   "cell_type": "markdown",
   "metadata": {},
   "source": [
    "##### Замена пропущенных значений Healthcare_1"
   ]
  },
  {
   "cell_type": "code",
   "execution_count": 51,
   "metadata": {},
   "outputs": [],
   "source": [
    "col_list = ['DistrictId', 'Ecology_1', 'Ecology_2_B', 'Ecology_3_B', 'Social_1', \n",
    "            'Social_2','Social_3', 'Helthcare_2', 'Shops_1','Shops_2_B']\n",
    "feature_name = 'Healthcare_1'\n",
    "rs = 1"
   ]
  },
  {
   "cell_type": "code",
   "execution_count": 52,
   "metadata": {},
   "outputs": [],
   "source": [
    "df2 = fillna_tree(df2, col_list, feature_name, rs)['df']"
   ]
  },
  {
   "cell_type": "markdown",
   "metadata": {},
   "source": [
    "##### Замена пропущенных значений LifeSquare"
   ]
  },
  {
   "cell_type": "code",
   "execution_count": 53,
   "metadata": {},
   "outputs": [],
   "source": [
    "df2 = fillna_LS_diff(df2)"
   ]
  },
  {
   "cell_type": "markdown",
   "metadata": {},
   "source": [
    "#### Поиск выбросов"
   ]
  },
  {
   "cell_type": "code",
   "execution_count": 54,
   "metadata": {},
   "outputs": [
    {
     "data": {
      "text/plain": [
       "6794    633233.466570\n",
       "8143    627525.072788\n",
       "1537    625820.041178\n",
       "4764    625678.644994\n",
       "3228    624680.099059\n",
       "Name: Price, dtype: float64"
      ]
     },
     "execution_count": 54,
     "metadata": {},
     "output_type": "execute_result"
    }
   ],
   "source": [
    "df2['Price'].sort_values(ascending = False).head()"
   ]
  },
  {
   "cell_type": "code",
   "execution_count": 55,
   "metadata": {},
   "outputs": [
    {
     "data": {
      "text/plain": [
       "<matplotlib.axes._subplots.AxesSubplot at 0x210358749e8>"
      ]
     },
     "execution_count": 55,
     "metadata": {},
     "output_type": "execute_result"
    },
    {
     "data": {
      "image/png": "[encoded data removed]",
      "text/plain": [
       "<Figure size 432x288 with 1 Axes>"
      ]
     },
     "metadata": {
      "needs_background": "light"
     },
     "output_type": "display_data"
    }
   ],
   "source": [
    "sns.boxplot(df2['Price'])"
   ]
  },
  {
   "cell_type": "code",
   "execution_count": 56,
   "metadata": {},
   "outputs": [
    {
     "data": {
      "text/plain": [
       "6977     641.065193\n",
       "11964    620.000000\n",
       "4262     604.705972\n",
       "8437     461.463614\n",
       "4690     410.639749\n",
       "Name: Square, dtype: float64"
      ]
     },
     "execution_count": 56,
     "metadata": {},
     "output_type": "execute_result"
    }
   ],
   "source": [
    "df2['Square'].sort_values(ascending = False).head()"
   ]
  },
  {
   "cell_type": "code",
   "execution_count": 57,
   "metadata": {},
   "outputs": [
    {
     "data": {
      "text/plain": [
       "<matplotlib.axes._subplots.AxesSubplot at 0x210359aa358>"
      ]
     },
     "execution_count": 57,
     "metadata": {},
     "output_type": "execute_result"
    },
    {
     "data": {
      "image/png": "[encoded data removed]",
      "text/plain": [
       "<Figure size 432x288 with 1 Axes>"
      ]
     },
     "metadata": {
      "needs_background": "light"
     },
     "output_type": "display_data"
    }
   ],
   "source": [
    "sns.boxplot(df2['Square'])"
   ]
  },
  {
   "cell_type": "code",
   "execution_count": 58,
   "metadata": {},
   "outputs": [],
   "source": [
    "for i in df2['Rooms'].unique():\n",
    "    df2.loc[(df2['Square']>200)&(df2['Price'] < 300000)&(df2['Rooms']==i), 'LifeSquare'] = df2.loc[df2['Rooms']==i, 'LifeSquare'].median()\n",
    "    df2.loc[(df2['Square']>200)&(df2['Price'] < 300000)&(df2['Rooms']==i), 'Square'] = df2.loc[df2['Rooms']==i, 'Square'].median()\n",
    "    "
   ]
  },
  {
   "cell_type": "code",
   "execution_count": 59,
   "metadata": {},
   "outputs": [
    {
     "data": {
      "text/html": [
       "<div>\n",
       "<style scoped>\n",
       "    .dataframe tbody tr th:only-of-type {\n",
       "        vertical-align: middle;\n",
       "    }\n",
       "\n",
       "    .dataframe tbody tr th {\n",
       "        vertical-align: top;\n",
       "    }\n",
       "\n",
       "    .dataframe thead th {\n",
       "        text-align: right;\n",
       "    }\n",
       "</style>\n",
       "<table border=\"1\" class=\"dataframe\">\n",
       "  <thead>\n",
       "    <tr style=\"text-align: right;\">\n",
       "      <th></th>\n",
       "      <th>Id</th>\n",
       "      <th>DistrictId</th>\n",
       "      <th>Rooms</th>\n",
       "      <th>Square</th>\n",
       "      <th>LifeSquare</th>\n",
       "      <th>KitchenSquare</th>\n",
       "      <th>Floor</th>\n",
       "      <th>HouseFloor</th>\n",
       "      <th>HouseYear</th>\n",
       "      <th>Ecology_1</th>\n",
       "      <th>...</th>\n",
       "      <th>Price</th>\n",
       "      <th>test_data</th>\n",
       "      <th>Ecology_2_B</th>\n",
       "      <th>Ecology_3_B</th>\n",
       "      <th>Shops_2_B</th>\n",
       "      <th>Room1</th>\n",
       "      <th>Room2</th>\n",
       "      <th>Room3</th>\n",
       "      <th>Room4</th>\n",
       "      <th>first_floor</th>\n",
       "    </tr>\n",
       "  </thead>\n",
       "  <tbody>\n",
       "    <tr>\n",
       "      <th>1641</th>\n",
       "      <td>11055</td>\n",
       "      <td>151</td>\n",
       "      <td>1.0</td>\n",
       "      <td>174.837082</td>\n",
       "      <td>174.649522</td>\n",
       "      <td>15.0</td>\n",
       "      <td>10.0</td>\n",
       "      <td>12.0</td>\n",
       "      <td>1958</td>\n",
       "      <td>0.236108</td>\n",
       "      <td>...</td>\n",
       "      <td>232766.187698</td>\n",
       "      <td>0</td>\n",
       "      <td>1</td>\n",
       "      <td>1</td>\n",
       "      <td>1</td>\n",
       "      <td>1</td>\n",
       "      <td>0</td>\n",
       "      <td>0</td>\n",
       "      <td>0</td>\n",
       "      <td>0</td>\n",
       "    </tr>\n",
       "    <tr>\n",
       "      <th>1981</th>\n",
       "      <td>7917</td>\n",
       "      <td>27</td>\n",
       "      <td>1.0</td>\n",
       "      <td>212.932361</td>\n",
       "      <td>211.231125</td>\n",
       "      <td>0.0</td>\n",
       "      <td>2.0</td>\n",
       "      <td>3.0</td>\n",
       "      <td>2008</td>\n",
       "      <td>0.211401</td>\n",
       "      <td>...</td>\n",
       "      <td>302211.260887</td>\n",
       "      <td>0</td>\n",
       "      <td>1</td>\n",
       "      <td>1</td>\n",
       "      <td>1</td>\n",
       "      <td>0</td>\n",
       "      <td>0</td>\n",
       "      <td>0</td>\n",
       "      <td>0</td>\n",
       "      <td>0</td>\n",
       "    </tr>\n",
       "    <tr>\n",
       "      <th>1982</th>\n",
       "      <td>5548</td>\n",
       "      <td>86</td>\n",
       "      <td>5.0</td>\n",
       "      <td>275.645284</td>\n",
       "      <td>233.949309</td>\n",
       "      <td>26.0</td>\n",
       "      <td>12.0</td>\n",
       "      <td>37.0</td>\n",
       "      <td>2011</td>\n",
       "      <td>0.161976</td>\n",
       "      <td>...</td>\n",
       "      <td>455264.882666</td>\n",
       "      <td>0</td>\n",
       "      <td>1</td>\n",
       "      <td>0</td>\n",
       "      <td>1</td>\n",
       "      <td>0</td>\n",
       "      <td>0</td>\n",
       "      <td>0</td>\n",
       "      <td>0</td>\n",
       "      <td>0</td>\n",
       "    </tr>\n",
       "    <tr>\n",
       "      <th>2603</th>\n",
       "      <td>5621</td>\n",
       "      <td>23</td>\n",
       "      <td>3.0</td>\n",
       "      <td>163.495333</td>\n",
       "      <td>161.504222</td>\n",
       "      <td>12.0</td>\n",
       "      <td>3.0</td>\n",
       "      <td>5.0</td>\n",
       "      <td>1977</td>\n",
       "      <td>0.014073</td>\n",
       "      <td>...</td>\n",
       "      <td>207007.956663</td>\n",
       "      <td>0</td>\n",
       "      <td>1</td>\n",
       "      <td>1</td>\n",
       "      <td>1</td>\n",
       "      <td>0</td>\n",
       "      <td>0</td>\n",
       "      <td>1</td>\n",
       "      <td>0</td>\n",
       "      <td>0</td>\n",
       "    </tr>\n",
       "    <tr>\n",
       "      <th>3651</th>\n",
       "      <td>5300</td>\n",
       "      <td>30</td>\n",
       "      <td>3.0</td>\n",
       "      <td>170.713651</td>\n",
       "      <td>169.509941</td>\n",
       "      <td>1.0</td>\n",
       "      <td>2.0</td>\n",
       "      <td>2.0</td>\n",
       "      <td>2018</td>\n",
       "      <td>0.000078</td>\n",
       "      <td>...</td>\n",
       "      <td>200800.673767</td>\n",
       "      <td>0</td>\n",
       "      <td>1</td>\n",
       "      <td>1</td>\n",
       "      <td>1</td>\n",
       "      <td>0</td>\n",
       "      <td>0</td>\n",
       "      <td>1</td>\n",
       "      <td>0</td>\n",
       "      <td>0</td>\n",
       "    </tr>\n",
       "    <tr>\n",
       "      <th>4047</th>\n",
       "      <td>15362</td>\n",
       "      <td>23</td>\n",
       "      <td>1.0</td>\n",
       "      <td>163.286965</td>\n",
       "      <td>161.155275</td>\n",
       "      <td>1.0</td>\n",
       "      <td>3.0</td>\n",
       "      <td>4.0</td>\n",
       "      <td>1977</td>\n",
       "      <td>0.014073</td>\n",
       "      <td>...</td>\n",
       "      <td>228572.520347</td>\n",
       "      <td>0</td>\n",
       "      <td>1</td>\n",
       "      <td>1</td>\n",
       "      <td>1</td>\n",
       "      <td>1</td>\n",
       "      <td>0</td>\n",
       "      <td>0</td>\n",
       "      <td>0</td>\n",
       "      <td>0</td>\n",
       "    </tr>\n",
       "    <tr>\n",
       "      <th>5444</th>\n",
       "      <td>14181</td>\n",
       "      <td>62</td>\n",
       "      <td>3.0</td>\n",
       "      <td>156.636577</td>\n",
       "      <td>153.685835</td>\n",
       "      <td>1.0</td>\n",
       "      <td>1.0</td>\n",
       "      <td>3.0</td>\n",
       "      <td>2005</td>\n",
       "      <td>0.072158</td>\n",
       "      <td>...</td>\n",
       "      <td>502523.573863</td>\n",
       "      <td>0</td>\n",
       "      <td>1</td>\n",
       "      <td>1</td>\n",
       "      <td>0</td>\n",
       "      <td>0</td>\n",
       "      <td>0</td>\n",
       "      <td>1</td>\n",
       "      <td>0</td>\n",
       "      <td>1</td>\n",
       "    </tr>\n",
       "    <tr>\n",
       "      <th>8913</th>\n",
       "      <td>2603</td>\n",
       "      <td>30</td>\n",
       "      <td>3.0</td>\n",
       "      <td>164.526757</td>\n",
       "      <td>162.587886</td>\n",
       "      <td>0.0</td>\n",
       "      <td>2.0</td>\n",
       "      <td>3.0</td>\n",
       "      <td>1977</td>\n",
       "      <td>0.000078</td>\n",
       "      <td>...</td>\n",
       "      <td>207407.352593</td>\n",
       "      <td>0</td>\n",
       "      <td>1</td>\n",
       "      <td>1</td>\n",
       "      <td>1</td>\n",
       "      <td>0</td>\n",
       "      <td>0</td>\n",
       "      <td>1</td>\n",
       "      <td>0</td>\n",
       "      <td>0</td>\n",
       "    </tr>\n",
       "    <tr>\n",
       "      <th>9910</th>\n",
       "      <td>16568</td>\n",
       "      <td>27</td>\n",
       "      <td>4.0</td>\n",
       "      <td>201.627361</td>\n",
       "      <td>200.334539</td>\n",
       "      <td>25.0</td>\n",
       "      <td>1.0</td>\n",
       "      <td>2.0</td>\n",
       "      <td>2013</td>\n",
       "      <td>0.041116</td>\n",
       "      <td>...</td>\n",
       "      <td>528560.506016</td>\n",
       "      <td>0</td>\n",
       "      <td>1</td>\n",
       "      <td>1</td>\n",
       "      <td>1</td>\n",
       "      <td>0</td>\n",
       "      <td>0</td>\n",
       "      <td>0</td>\n",
       "      <td>1</td>\n",
       "      <td>1</td>\n",
       "    </tr>\n",
       "    <tr>\n",
       "      <th>12557</th>\n",
       "      <td>16053</td>\n",
       "      <td>17</td>\n",
       "      <td>4.0</td>\n",
       "      <td>169.901701</td>\n",
       "      <td>168.729035</td>\n",
       "      <td>0.0</td>\n",
       "      <td>0.0</td>\n",
       "      <td>4.0</td>\n",
       "      <td>2013</td>\n",
       "      <td>0.093443</td>\n",
       "      <td>...</td>\n",
       "      <td>0.000000</td>\n",
       "      <td>1</td>\n",
       "      <td>1</td>\n",
       "      <td>1</td>\n",
       "      <td>1</td>\n",
       "      <td>0</td>\n",
       "      <td>0</td>\n",
       "      <td>0</td>\n",
       "      <td>1</td>\n",
       "      <td>0</td>\n",
       "    </tr>\n",
       "  </tbody>\n",
       "</table>\n",
       "<p>10 rows × 26 columns</p>\n",
       "</div>"
      ],
      "text/plain": [
       "          Id  DistrictId  Rooms      Square  LifeSquare  KitchenSquare  Floor  \\\n",
       "1641   11055         151    1.0  174.837082  174.649522           15.0   10.0   \n",
       "1981    7917          27    1.0  212.932361  211.231125            0.0    2.0   \n",
       "1982    5548          86    5.0  275.645284  233.949309           26.0   12.0   \n",
       "2603    5621          23    3.0  163.495333  161.504222           12.0    3.0   \n",
       "3651    5300          30    3.0  170.713651  169.509941            1.0    2.0   \n",
       "4047   15362          23    1.0  163.286965  161.155275            1.0    3.0   \n",
       "5444   14181          62    3.0  156.636577  153.685835            1.0    1.0   \n",
       "8913    2603          30    3.0  164.526757  162.587886            0.0    2.0   \n",
       "9910   16568          27    4.0  201.627361  200.334539           25.0    1.0   \n",
       "12557  16053          17    4.0  169.901701  168.729035            0.0    0.0   \n",
       "\n",
       "       HouseFloor  HouseYear  Ecology_1  ...          Price  test_data  \\\n",
       "1641         12.0       1958   0.236108  ...  232766.187698          0   \n",
       "1981          3.0       2008   0.211401  ...  302211.260887          0   \n",
       "1982         37.0       2011   0.161976  ...  455264.882666          0   \n",
       "2603          5.0       1977   0.014073  ...  207007.956663          0   \n",
       "3651          2.0       2018   0.000078  ...  200800.673767          0   \n",
       "4047          4.0       1977   0.014073  ...  228572.520347          0   \n",
       "5444          3.0       2005   0.072158  ...  502523.573863          0   \n",
       "8913          3.0       1977   0.000078  ...  207407.352593          0   \n",
       "9910          2.0       2013   0.041116  ...  528560.506016          0   \n",
       "12557         4.0       2013   0.093443  ...       0.000000          1   \n",
       "\n",
       "       Ecology_2_B  Ecology_3_B  Shops_2_B  Room1  Room2  Room3  Room4  \\\n",
       "1641             1            1          1      1      0      0      0   \n",
       "1981             1            1          1      0      0      0      0   \n",
       "1982             1            0          1      0      0      0      0   \n",
       "2603             1            1          1      0      0      1      0   \n",
       "3651             1            1          1      0      0      1      0   \n",
       "4047             1            1          1      1      0      0      0   \n",
       "5444             1            1          0      0      0      1      0   \n",
       "8913             1            1          1      0      0      1      0   \n",
       "9910             1            1          1      0      0      0      1   \n",
       "12557            1            1          1      0      0      0      1   \n",
       "\n",
       "       first_floor  \n",
       "1641             0  \n",
       "1981             0  \n",
       "1982             0  \n",
       "2603             0  \n",
       "3651             0  \n",
       "4047             0  \n",
       "5444             1  \n",
       "8913             0  \n",
       "9910             1  \n",
       "12557            0  \n",
       "\n",
       "[10 rows x 26 columns]"
      ]
     },
     "execution_count": 59,
     "metadata": {},
     "output_type": "execute_result"
    }
   ],
   "source": [
    "df2.loc[df2['LifeSquare']>150]"
   ]
  },
  {
   "cell_type": "markdown",
   "metadata": {},
   "source": [
    "### Моделирование"
   ]
  },
  {
   "cell_type": "code",
   "execution_count": 60,
   "metadata": {},
   "outputs": [],
   "source": [
    "basic_drop = ['Price', 'Id', 'test_data']"
   ]
  },
  {
   "cell_type": "code",
   "execution_count": 61,
   "metadata": {},
   "outputs": [],
   "source": [
    "additional_drop = ['LifeSquare', 'Room1','Room2','Room3', 'Room4']"
   ]
  },
  {
   "cell_type": "code",
   "execution_count": 62,
   "metadata": {},
   "outputs": [],
   "source": [
    "cols_to_drop = basic_drop + additional_drop"
   ]
  },
  {
   "cell_type": "code",
   "execution_count": 63,
   "metadata": {},
   "outputs": [],
   "source": [
    "X = df2.loc[df2['test_data'] == 0].drop(columns = cols_to_drop)"
   ]
  },
  {
   "cell_type": "code",
   "execution_count": 64,
   "metadata": {},
   "outputs": [],
   "source": [
    "y = df2.loc[df2['test_data'] == 0, ['Price']].values"
   ]
  },
  {
   "cell_type": "code",
   "execution_count": 65,
   "metadata": {},
   "outputs": [],
   "source": [
    "y = y.flatten()"
   ]
  },
  {
   "cell_type": "code",
   "execution_count": 66,
   "metadata": {},
   "outputs": [],
   "source": [
    "X_train, X_test, y_train, y_test = train_test_split(X, y, test_size = 0.25, random_state =333)"
   ]
  },
  {
   "cell_type": "code",
   "execution_count": 67,
   "metadata": {},
   "outputs": [],
   "source": [
    "clf2 = RandomForestRegressor(n_estimators = 150, max_depth = 17, max_features = 8, random_state = 333)"
   ]
  },
  {
   "cell_type": "code",
   "execution_count": null,
   "metadata": {
    "scrolled": true
   },
   "outputs": [],
   "source": [
    "clf2.fit(X_train, y_train)"
   ]
  },
  {
   "cell_type": "code",
   "execution_count": null,
   "metadata": {},
   "outputs": [],
   "source": [
    "score = clf2.score(X_test, y_test)"
   ]
  },
  {
   "cell_type": "code",
   "execution_count": null,
   "metadata": {},
   "outputs": [],
   "source": [
    "score"
   ]
  },
  {
   "cell_type": "markdown",
   "metadata": {},
   "source": [
    "### Prediction"
   ]
  },
  {
   "cell_type": "code",
   "execution_count": null,
   "metadata": {
    "scrolled": true
   },
   "outputs": [],
   "source": [
    "clf2.fit(X, y)"
   ]
  },
  {
   "cell_type": "code",
   "execution_count": null,
   "metadata": {},
   "outputs": [],
   "source": [
    "y_test_pred = clf2.predict(df2.loc[df2['test_data'] == 1].drop(columns = cols_to_drop))"
   ]
  },
  {
   "cell_type": "code",
   "execution_count": null,
   "metadata": {},
   "outputs": [],
   "source": [
    "df2.loc[df2['test_data']==1, 'Price'] = y_test_pred"
   ]
  },
  {
   "cell_type": "code",
   "execution_count": null,
   "metadata": {
    "scrolled": true
   },
   "outputs": [],
   "source": [
    "df2.loc[df2['test_data']==1, ['Id', 'Price']].to_csv('result.csv', index = False)"
   ]
  },
  {
   "cell_type": "code",
   "execution_count": null,
   "metadata": {},
   "outputs": [],
   "source": []
  },
  {
   "cell_type": "code",
   "execution_count": null,
   "metadata": {},
   "outputs": [],
   "source": []
  },
  {
   "cell_type": "code",
   "execution_count": null,
   "metadata": {},
   "outputs": [],
   "source": []
  },
  {
   "cell_type": "code",
   "execution_count": null,
   "metadata": {},
   "outputs": [],
   "source": []
  },
  {
   "cell_type": "code",
   "execution_count": null,
   "metadata": {},
   "outputs": [],
   "source": []
  }
 ],
 "metadata": {
  "kernelspec": {
   "display_name": "Python 3",
   "language": "python",
   "name": "python3"
  },
  "language_info": {
   "codemirror_mode": {
    "name": "ipython",
    "version": 3
   },
   "file_extension": ".py",
   "mimetype": "text/x-python",
   "name": "python",
   "nbconvert_exporter": "python",
   "pygments_lexer": "ipython3",
   "version": "3.7.3"
  }
 },
 "nbformat": 4,
 "nbformat_minor": 2
}
